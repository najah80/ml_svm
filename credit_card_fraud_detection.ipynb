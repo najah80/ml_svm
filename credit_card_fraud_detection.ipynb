{
 "cells": [
  {
   "cell_type": "code",
   "execution_count": 2,
   "metadata": {},
   "outputs": [],
   "source": [
    "import pandas as pd \n",
    "import matplotlib.pyplot as plt\n",
    "import seaborn as sns\n",
    "import numpy as np\n",
    "from sklearn.preprocessing import MinMaxScaler, StandardScaler, scale, LabelEncoder\n",
    "from sklearn.model_selection import train_test_split"
   ]
  },
  {
   "cell_type": "code",
   "execution_count": 3,
   "metadata": {},
   "outputs": [],
   "source": [
    "#read dataset\n",
    "df = pd.read_csv('creditcard.csv')"
   ]
  },
  {
   "cell_type": "code",
   "execution_count": 4,
   "metadata": {},
   "outputs": [
    {
     "data": {
      "text/html": [
       "<div>\n",
       "<style scoped>\n",
       "    .dataframe tbody tr th:only-of-type {\n",
       "        vertical-align: middle;\n",
       "    }\n",
       "\n",
       "    .dataframe tbody tr th {\n",
       "        vertical-align: top;\n",
       "    }\n",
       "\n",
       "    .dataframe thead th {\n",
       "        text-align: right;\n",
       "    }\n",
       "</style>\n",
       "<table border=\"1\" class=\"dataframe\">\n",
       "  <thead>\n",
       "    <tr style=\"text-align: right;\">\n",
       "      <th></th>\n",
       "      <th>Merchant_id</th>\n",
       "      <th>Transaction date</th>\n",
       "      <th>Average Amount/transaction/day</th>\n",
       "      <th>Transaction_amount</th>\n",
       "      <th>Is declined</th>\n",
       "      <th>Total Number of declines/day</th>\n",
       "      <th>isForeignTransaction</th>\n",
       "      <th>isHighRiskCountry</th>\n",
       "      <th>Daily_chargeback_avg_amt</th>\n",
       "      <th>6_month_avg_chbk_amt</th>\n",
       "      <th>6-month_chbk_freq</th>\n",
       "      <th>isFradulent</th>\n",
       "    </tr>\n",
       "  </thead>\n",
       "  <tbody>\n",
       "    <tr>\n",
       "      <th>0</th>\n",
       "      <td>3160040998</td>\n",
       "      <td>NaN</td>\n",
       "      <td>100.0</td>\n",
       "      <td>3000.0</td>\n",
       "      <td>N</td>\n",
       "      <td>5</td>\n",
       "      <td>Y</td>\n",
       "      <td>Y</td>\n",
       "      <td>0</td>\n",
       "      <td>0.0</td>\n",
       "      <td>0</td>\n",
       "      <td>Y</td>\n",
       "    </tr>\n",
       "    <tr>\n",
       "      <th>1</th>\n",
       "      <td>3160040998</td>\n",
       "      <td>NaN</td>\n",
       "      <td>100.0</td>\n",
       "      <td>4300.0</td>\n",
       "      <td>N</td>\n",
       "      <td>5</td>\n",
       "      <td>Y</td>\n",
       "      <td>Y</td>\n",
       "      <td>0</td>\n",
       "      <td>0.0</td>\n",
       "      <td>0</td>\n",
       "      <td>Y</td>\n",
       "    </tr>\n",
       "    <tr>\n",
       "      <th>2</th>\n",
       "      <td>3160041896</td>\n",
       "      <td>NaN</td>\n",
       "      <td>185.5</td>\n",
       "      <td>4823.0</td>\n",
       "      <td>Y</td>\n",
       "      <td>5</td>\n",
       "      <td>N</td>\n",
       "      <td>N</td>\n",
       "      <td>0</td>\n",
       "      <td>0.0</td>\n",
       "      <td>0</td>\n",
       "      <td>Y</td>\n",
       "    </tr>\n",
       "    <tr>\n",
       "      <th>3</th>\n",
       "      <td>3160141996</td>\n",
       "      <td>NaN</td>\n",
       "      <td>185.5</td>\n",
       "      <td>5008.5</td>\n",
       "      <td>Y</td>\n",
       "      <td>8</td>\n",
       "      <td>N</td>\n",
       "      <td>N</td>\n",
       "      <td>0</td>\n",
       "      <td>0.0</td>\n",
       "      <td>0</td>\n",
       "      <td>Y</td>\n",
       "    </tr>\n",
       "    <tr>\n",
       "      <th>4</th>\n",
       "      <td>3160241992</td>\n",
       "      <td>NaN</td>\n",
       "      <td>500.0</td>\n",
       "      <td>26000.0</td>\n",
       "      <td>N</td>\n",
       "      <td>0</td>\n",
       "      <td>Y</td>\n",
       "      <td>Y</td>\n",
       "      <td>800</td>\n",
       "      <td>677.2</td>\n",
       "      <td>6</td>\n",
       "      <td>Y</td>\n",
       "    </tr>\n",
       "  </tbody>\n",
       "</table>\n",
       "</div>"
      ],
      "text/plain": [
       "   Merchant_id  Transaction date  Average Amount/transaction/day  \\\n",
       "0   3160040998               NaN                           100.0   \n",
       "1   3160040998               NaN                           100.0   \n",
       "2   3160041896               NaN                           185.5   \n",
       "3   3160141996               NaN                           185.5   \n",
       "4   3160241992               NaN                           500.0   \n",
       "\n",
       "   Transaction_amount Is declined  Total Number of declines/day  \\\n",
       "0              3000.0           N                             5   \n",
       "1              4300.0           N                             5   \n",
       "2              4823.0           Y                             5   \n",
       "3              5008.5           Y                             8   \n",
       "4             26000.0           N                             0   \n",
       "\n",
       "  isForeignTransaction isHighRiskCountry  Daily_chargeback_avg_amt  \\\n",
       "0                    Y                 Y                         0   \n",
       "1                    Y                 Y                         0   \n",
       "2                    N                 N                         0   \n",
       "3                    N                 N                         0   \n",
       "4                    Y                 Y                       800   \n",
       "\n",
       "   6_month_avg_chbk_amt  6-month_chbk_freq isFradulent  \n",
       "0                   0.0                  0           Y  \n",
       "1                   0.0                  0           Y  \n",
       "2                   0.0                  0           Y  \n",
       "3                   0.0                  0           Y  \n",
       "4                 677.2                  6           Y  "
      ]
     },
     "execution_count": 4,
     "metadata": {},
     "output_type": "execute_result"
    }
   ],
   "source": [
    "df.head()"
   ]
  },
  {
   "cell_type": "code",
   "execution_count": 5,
   "metadata": {},
   "outputs": [
    {
     "data": {
      "text/plain": [
       "(3075, 12)"
      ]
     },
     "execution_count": 5,
     "metadata": {},
     "output_type": "execute_result"
    }
   ],
   "source": [
    "df.shape"
   ]
  },
  {
   "cell_type": "code",
   "execution_count": 6,
   "metadata": {},
   "outputs": [
    {
     "data": {
      "text/plain": [
       "Merchant_id                         int64\n",
       "Transaction date                  float64\n",
       "Average Amount/transaction/day    float64\n",
       "Transaction_amount                float64\n",
       "Is declined                        object\n",
       "Total Number of declines/day        int64\n",
       "isForeignTransaction               object\n",
       "isHighRiskCountry                  object\n",
       "Daily_chargeback_avg_amt            int64\n",
       "6_month_avg_chbk_amt              float64\n",
       "6-month_chbk_freq                   int64\n",
       "isFradulent                        object\n",
       "dtype: object"
      ]
     },
     "execution_count": 6,
     "metadata": {},
     "output_type": "execute_result"
    }
   ],
   "source": [
    "df.dtypes"
   ]
  },
  {
   "cell_type": "code",
   "execution_count": 7,
   "metadata": {},
   "outputs": [
    {
     "data": {
      "text/plain": [
       "Merchant_id                          0\n",
       "Transaction date                  3075\n",
       "Average Amount/transaction/day       0\n",
       "Transaction_amount                   0\n",
       "Is declined                          0\n",
       "Total Number of declines/day         0\n",
       "isForeignTransaction                 0\n",
       "isHighRiskCountry                    0\n",
       "Daily_chargeback_avg_amt             0\n",
       "6_month_avg_chbk_amt                 0\n",
       "6-month_chbk_freq                    0\n",
       "isFradulent                          0\n",
       "dtype: int64"
      ]
     },
     "execution_count": 7,
     "metadata": {},
     "output_type": "execute_result"
    }
   ],
   "source": [
    "#trouver ls colonnes avec des null\n",
    "df.isnull().sum()"
   ]
  },
  {
   "cell_type": "code",
   "execution_count": 8,
   "metadata": {},
   "outputs": [],
   "source": [
    "#droper les colonnes avec des nulls\n",
    "df = df.drop('Transaction date', axis = 1)"
   ]
  },
  {
   "cell_type": "code",
   "execution_count": 9,
   "metadata": {},
   "outputs": [],
   "source": [
    "# convertir les valeurs catégoriques(de type object) en numérique\n",
    "df['isFradulent'] = df.isFradulent.replace({'N': 0, 'Y': 1})\n",
    "df['Is declined'] = df['Is declined'].replace({'N': 0, 'Y': 1})\n",
    "df['isForeignTransaction'] = df['isForeignTransaction'].replace({'N': 0, 'Y': 1})\n",
    "df['isHighRiskCountry'] = df['isHighRiskCountry'].replace({'N': 0, 'Y': 1})"
   ]
  },
  {
   "cell_type": "code",
   "execution_count": 10,
   "metadata": {},
   "outputs": [
    {
     "data": {
      "text/plain": [
       "0    2627\n",
       "1     448\n",
       "Name: isFradulent, dtype: int64"
      ]
     },
     "execution_count": 10,
     "metadata": {},
     "output_type": "execute_result"
    }
   ],
   "source": [
    "#compter le nombre d'examples par chaque classe à prédire\n",
    "df['isFradulent'].value_counts()"
   ]
  },
  {
   "cell_type": "code",
   "execution_count": 11,
   "metadata": {},
   "outputs": [
    {
     "data": {
      "text/plain": [
       "Merchant_id                         int64\n",
       "Average Amount/transaction/day    float64\n",
       "Transaction_amount                float64\n",
       "Is declined                         int64\n",
       "Total Number of declines/day        int64\n",
       "isForeignTransaction                int64\n",
       "isHighRiskCountry                   int64\n",
       "Daily_chargeback_avg_amt            int64\n",
       "6_month_avg_chbk_amt              float64\n",
       "6-month_chbk_freq                   int64\n",
       "isFradulent                         int64\n",
       "dtype: object"
      ]
     },
     "execution_count": 11,
     "metadata": {},
     "output_type": "execute_result"
    }
   ],
   "source": [
    "df.dtypes"
   ]
  },
  {
   "cell_type": "code",
   "execution_count": 12,
   "metadata": {},
   "outputs": [
    {
     "name": "stderr",
     "output_type": "stream",
     "text": [
      "C:\\Users\\Formation\\Anaconda3\\lib\\site-packages\\scipy\\stats\\stats.py:1713: FutureWarning: Using a non-tuple sequence for multidimensional indexing is deprecated; use `arr[tuple(seq)]` instead of `arr[seq]`. In the future this will be interpreted as an array index, `arr[np.array(seq)]`, which will result either in an error or a different result.\n",
      "  return np.add.reduce(sorted[indexer] * weights, axis=axis) / sumval\n"
     ]
    },
    {
     "data": {
      "image/png": "[encoded data removed]",
      "text/plain": [
       "<Figure size 432x288 with 1 Axes>"
      ]
     },
     "metadata": {
      "needs_background": "light"
     },
     "output_type": "display_data"
    }
   ],
   "source": [
    "sns.violinplot(y='isFradulent', x='isHighRiskCountry', data=df)\n",
    "plt.show()"
   ]
  },
  {
   "cell_type": "code",
   "execution_count": 13,
   "metadata": {},
   "outputs": [],
   "source": [
    " X = df.drop(['isFradulent', 'Merchant_id'], axis=1)\n",
    " Y = df['isFradulent']"
   ]
  },
  {
   "cell_type": "code",
   "execution_count": 14,
   "metadata": {},
   "outputs": [
    {
     "name": "stderr",
     "output_type": "stream",
     "text": [
      "C:\\Users\\Formation\\Anaconda3\\lib\\site-packages\\ipykernel_launcher.py:1: DataConversionWarning: Data with input dtype int64, float64 were all converted to float64 by the scale function.\n",
      "  \"\"\"Entry point for launching an IPython kernel.\n"
     ]
    }
   ],
   "source": [
    "x = scale(X)"
   ]
  },
  {
   "cell_type": "code",
   "execution_count": 15,
   "metadata": {},
   "outputs": [
    {
     "data": {
      "text/plain": [
       "array([[-1.42200799, -0.67856862, -0.13742882, ..., -0.26978337,\n",
       "        -0.25664688, -0.25310881],\n",
       "       [-1.42200799, -0.55028357, -0.13742882, ..., -0.26978337,\n",
       "        -0.25664688, -0.25310881],\n",
       "       [-1.12905883, -0.49867351,  7.27649424, ..., -0.26978337,\n",
       "        -0.25664688, -0.25310881],\n",
       "       ...,\n",
       "       [ 0.97640623,  1.07794974,  7.27649424, ...,  3.37976021,\n",
       "         3.49471235,  4.26819179],\n",
       "       [ 3.37482045,  0.20955864,  7.27649424, ...,  3.37976021,\n",
       "         3.49471235,  4.26819179],\n",
       "       [ 3.37482045,  2.577898  ,  7.27649424, ...,  3.37976021,\n",
       "         3.49471235,  4.26819179]])"
      ]
     },
     "execution_count": 15,
     "metadata": {},
     "output_type": "execute_result"
    }
   ],
   "source": [
    "x"
   ]
  },
  {
   "cell_type": "code",
   "execution_count": 16,
   "metadata": {},
   "outputs": [],
   "source": [
    "#Splitter le dataset en test et train (30%)\n",
    "X_train, X_test, y_train, y_test = train_test_split(x, Y, \n",
    "                                                    test_size=0.3, \n",
    "                                                    random_state=42, stratify=Y)"
   ]
  },
  {
   "cell_type": "code",
   "execution_count": 17,
   "metadata": {},
   "outputs": [
    {
     "data": {
      "text/plain": [
       "(2152, 9)"
      ]
     },
     "execution_count": 17,
     "metadata": {},
     "output_type": "execute_result"
    }
   ],
   "source": [
    " X_train.shape"
   ]
  },
  {
   "cell_type": "code",
   "execution_count": 18,
   "metadata": {},
   "outputs": [
    {
     "data": {
      "text/plain": [
       "(2152,)"
      ]
     },
     "execution_count": 18,
     "metadata": {},
     "output_type": "execute_result"
    }
   ],
   "source": [
    " y_train.shape"
   ]
  },
  {
   "cell_type": "code",
   "execution_count": 19,
   "metadata": {},
   "outputs": [
    {
     "data": {
      "text/html": [
       "<div>\n",
       "<style scoped>\n",
       "    .dataframe tbody tr th:only-of-type {\n",
       "        vertical-align: middle;\n",
       "    }\n",
       "\n",
       "    .dataframe tbody tr th {\n",
       "        vertical-align: top;\n",
       "    }\n",
       "\n",
       "    .dataframe thead th {\n",
       "        text-align: right;\n",
       "    }\n",
       "</style>\n",
       "<table border=\"1\" class=\"dataframe\">\n",
       "  <thead>\n",
       "    <tr style=\"text-align: right;\">\n",
       "      <th></th>\n",
       "      <th>Merchant_id</th>\n",
       "      <th>Average Amount/transaction/day</th>\n",
       "      <th>Transaction_amount</th>\n",
       "      <th>Is declined</th>\n",
       "      <th>Total Number of declines/day</th>\n",
       "      <th>isForeignTransaction</th>\n",
       "      <th>isHighRiskCountry</th>\n",
       "      <th>Daily_chargeback_avg_amt</th>\n",
       "      <th>6_month_avg_chbk_amt</th>\n",
       "      <th>6-month_chbk_freq</th>\n",
       "      <th>isFradulent</th>\n",
       "    </tr>\n",
       "  </thead>\n",
       "  <tbody>\n",
       "    <tr>\n",
       "      <th>0</th>\n",
       "      <td>3160040998</td>\n",
       "      <td>100.0</td>\n",
       "      <td>3000.0</td>\n",
       "      <td>0</td>\n",
       "      <td>5</td>\n",
       "      <td>1</td>\n",
       "      <td>1</td>\n",
       "      <td>0</td>\n",
       "      <td>0.0</td>\n",
       "      <td>0</td>\n",
       "      <td>1</td>\n",
       "    </tr>\n",
       "    <tr>\n",
       "      <th>1</th>\n",
       "      <td>3160040998</td>\n",
       "      <td>100.0</td>\n",
       "      <td>4300.0</td>\n",
       "      <td>0</td>\n",
       "      <td>5</td>\n",
       "      <td>1</td>\n",
       "      <td>1</td>\n",
       "      <td>0</td>\n",
       "      <td>0.0</td>\n",
       "      <td>0</td>\n",
       "      <td>1</td>\n",
       "    </tr>\n",
       "    <tr>\n",
       "      <th>2</th>\n",
       "      <td>3160041896</td>\n",
       "      <td>185.5</td>\n",
       "      <td>4823.0</td>\n",
       "      <td>1</td>\n",
       "      <td>5</td>\n",
       "      <td>0</td>\n",
       "      <td>0</td>\n",
       "      <td>0</td>\n",
       "      <td>0.0</td>\n",
       "      <td>0</td>\n",
       "      <td>1</td>\n",
       "    </tr>\n",
       "    <tr>\n",
       "      <th>3</th>\n",
       "      <td>3160141996</td>\n",
       "      <td>185.5</td>\n",
       "      <td>5008.5</td>\n",
       "      <td>1</td>\n",
       "      <td>8</td>\n",
       "      <td>0</td>\n",
       "      <td>0</td>\n",
       "      <td>0</td>\n",
       "      <td>0.0</td>\n",
       "      <td>0</td>\n",
       "      <td>1</td>\n",
       "    </tr>\n",
       "    <tr>\n",
       "      <th>4</th>\n",
       "      <td>3160241992</td>\n",
       "      <td>500.0</td>\n",
       "      <td>26000.0</td>\n",
       "      <td>0</td>\n",
       "      <td>0</td>\n",
       "      <td>1</td>\n",
       "      <td>1</td>\n",
       "      <td>800</td>\n",
       "      <td>677.2</td>\n",
       "      <td>6</td>\n",
       "      <td>1</td>\n",
       "    </tr>\n",
       "  </tbody>\n",
       "</table>\n",
       "</div>"
      ],
      "text/plain": [
       "   Merchant_id  Average Amount/transaction/day  Transaction_amount  \\\n",
       "0   3160040998                           100.0              3000.0   \n",
       "1   3160040998                           100.0              4300.0   \n",
       "2   3160041896                           185.5              4823.0   \n",
       "3   3160141996                           185.5              5008.5   \n",
       "4   3160241992                           500.0             26000.0   \n",
       "\n",
       "   Is declined  Total Number of declines/day  isForeignTransaction  \\\n",
       "0            0                             5                     1   \n",
       "1            0                             5                     1   \n",
       "2            1                             5                     0   \n",
       "3            1                             8                     0   \n",
       "4            0                             0                     1   \n",
       "\n",
       "   isHighRiskCountry  Daily_chargeback_avg_amt  6_month_avg_chbk_amt  \\\n",
       "0                  1                         0                   0.0   \n",
       "1                  1                         0                   0.0   \n",
       "2                  0                         0                   0.0   \n",
       "3                  0                         0                   0.0   \n",
       "4                  1                       800                 677.2   \n",
       "\n",
       "   6-month_chbk_freq  isFradulent  \n",
       "0                  0            1  \n",
       "1                  0            1  \n",
       "2                  0            1  \n",
       "3                  0            1  \n",
       "4                  6            1  "
      ]
     },
     "execution_count": 19,
     "metadata": {},
     "output_type": "execute_result"
    }
   ],
   "source": [
    "df.head()"
   ]
  },
  {
   "cell_type": "code",
   "execution_count": 27,
   "metadata": {},
   "outputs": [
    {
     "data": {
      "image/png": "[encoded data removed]",
      "text/plain": [
       "<Figure size 1440x1440 with 2 Axes>"
      ]
     },
     "metadata": {},
     "output_type": "display_data"
    }
   ],
   "source": [
    "# la matricre de corrélation entre les variables\n",
    "corr = df.corr()\n",
    "# mask for the upper triangle\n",
    "cleanning_mask = np.zeros_like(corr)\n",
    "upper_triangle = np.triu_indices_from(corr)\n",
    "cleanning_mask[upper_triangle] = 1\n",
    "sns.set_style('whitegrid')\n",
    "plt.figure(figsize=(20, 20))\n",
    "sns.heatmap(corr, \n",
    "           mask=cleanning_mask,\n",
    "           annot=True,\n",
    "           cmap='RdBu_r',\n",
    "           vmin=-1,\n",
    "           vmax=1)\n",
    "plt.show()"
   ]
  },
  {
   "cell_type": "code",
   "execution_count": 21,
   "metadata": {},
   "outputs": [
    {
     "name": "stderr",
     "output_type": "stream",
     "text": [
      "C:\\Users\\Formation\\Anaconda3\\lib\\site-packages\\sklearn\\svm\\base.py:196: FutureWarning: The default value of gamma will change from 'auto' to 'scale' in version 0.22 to account better for unscaled features. Set gamma explicitly to 'auto' or 'scale' to avoid this warning.\n",
      "  \"avoid this warning.\", FutureWarning)\n"
     ]
    },
    {
     "data": {
      "text/plain": [
       "SVC(C=1.0, cache_size=200, class_weight=None, coef0=0.0,\n",
       "  decision_function_shape='ovr', degree=3, gamma='auto_deprecated',\n",
       "  kernel='rbf', max_iter=-1, probability=False, random_state=None,\n",
       "  shrinking=True, tol=0.001, verbose=False)"
      ]
     },
     "execution_count": 21,
     "metadata": {},
     "output_type": "execute_result"
    }
   ],
   "source": [
    "#fitter notre modèle avec svm\n",
    "from sklearn import svm\n",
    "clf = svm.SVC()\n",
    "clf.fit(X_train, y_train)"
   ]
  },
  {
   "cell_type": "code",
   "execution_count": 22,
   "metadata": {},
   "outputs": [
    {
     "name": "stdout",
     "output_type": "stream",
     "text": [
      "Size of training set:  (923, 9)\n",
      "(923,)\n"
     ]
    }
   ],
   "source": [
    "#créer des prédictions\n",
    "predictions = clf.predict(X_test)\n",
    "print(\"Size of training set: \", X_test.shape)\n",
    "print(predictions.shape)"
   ]
  },
  {
   "cell_type": "code",
   "execution_count": 23,
   "metadata": {
    "scrolled": false
   },
   "outputs": [
    {
     "name": "stdout",
     "output_type": "stream",
     "text": [
      "[[783   6]\n",
      " [  6 128]]\n",
      "              precision    recall  f1-score   support\n",
      "\n",
      "           0       0.99      0.99      0.99       789\n",
      "           1       0.96      0.96      0.96       134\n",
      "\n",
      "   micro avg       0.99      0.99      0.99       923\n",
      "   macro avg       0.97      0.97      0.97       923\n",
      "weighted avg       0.99      0.99      0.99       923\n",
      "\n"
     ]
    }
   ],
   "source": [
    "# Matrice de confusion \n",
    "from sklearn.metrics import classification_report, confusion_matrix\n",
    "print(confusion_matrix(y_test, predictions))\n",
    "print(classification_report(y_test,predictions))"
   ]
  },
  {
   "cell_type": "code",
   "execution_count": 24,
   "metadata": {},
   "outputs": [
    {
     "data": {
      "text/plain": [
       "0.9869989165763814"
      ]
     },
     "execution_count": 24,
     "metadata": {},
     "output_type": "execute_result"
    }
   ],
   "source": [
    "# Afficher les scores \n",
    "from sklearn.metrics import accuracy_score\n",
    "accuracy_score(y_test, predictions)"
   ]
  },
  {
   "cell_type": "code",
   "execution_count": null,
   "metadata": {},
   "outputs": [],
   "source": []
  },
  {
   "cell_type": "code",
   "execution_count": null,
   "metadata": {},
   "outputs": [],
   "source": []
  },
  {
   "cell_type": "code",
   "execution_count": null,
   "metadata": {},
   "outputs": [],
   "source": []
  }
 ],
 "metadata": {
  "kernelspec": {
   "display_name": "Python 3",
   "language": "python",
   "name": "python3"
  },
  "language_info": {
   "codemirror_mode": {
    "name": "ipython",
    "version": 3
   },
   "file_extension": ".py",
   "mimetype": "text/x-python",
   "name": "python",
   "nbconvert_exporter": "python",
   "pygments_lexer": "ipython3",
   "version": "3.7.1"
  }
 },
 "nbformat": 4,
 "nbformat_minor": 2
}
